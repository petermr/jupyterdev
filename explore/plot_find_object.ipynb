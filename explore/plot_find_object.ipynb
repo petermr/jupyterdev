{
 "cells": [
  {
   "cell_type": "code",
   "execution_count": null,
   "metadata": {},
   "outputs": [],
   "source": [
    "%matplotlib inline"
   ]
  },
  {
   "cell_type": "markdown",
   "metadata": {},
   "source": [
    "\n",
    "Find the bounding box of an object\n",
    "===================================\n",
    "\n",
    "This example shows how to extract the bounding box of the largest object\n",
    "\n",
    "\n"
   ]
  },
  {
   "cell_type": "code",
   "execution_count": 3,
   "metadata": {
    "scrolled": true
   },
   "outputs": [
    {
     "name": "stdout",
     "output_type": "stream",
     "text": [
      "[[0. 0. 0. ... 0. 0. 0.]\n",
      " [0. 0. 0. ... 0. 0. 0.]\n",
      " [0. 0. 0. ... 0. 0. 0.]\n",
      " ...\n",
      " [0. 0. 0. ... 0. 0. 0.]\n",
      " [0. 0. 0. ... 0. 0. 0.]\n",
      " [0. 0. 0. ... 0. 0. 0.]]\n",
      "[[1.06757633e+02 1.84403070e+02 2.92799532e-02 7.73971386e+01\n",
      "  3.75695080e+01 2.36386803e+01 4.76826141e+01 8.84635461e+01\n",
      "  1.01572473e+02 1.37937084e+02 1.07313796e+02 1.75416192e+02\n",
      "  5.23397759e+01 2.24798064e+02 7.01122386e+00 1.71639683e+02\n",
      "  1.06830029e+02 1.43024596e+02 3.59390563e+01 5.07139812e+01\n",
      "  2.04990610e+02 2.47874963e+02 8.02365896e+01 1.77234590e+02\n",
      "  2.24355623e+02 2.29019306e+02 2.17713181e+01 9.99802451e+00\n",
      "  4.34765874e+01 2.24804481e+02 2.51767895e+01 1.07803552e+02\n",
      "  2.45219720e+02 1.36490313e+02 1.77120541e+02 8.07720015e+01\n",
      "  1.75744237e+02 2.13664172e+02 4.68179900e+00 1.92036945e+02\n",
      "  2.53148439e+02 1.91530408e+02 7.17936620e+01 2.02055508e+02\n",
      "  2.64258577e+01 1.14660743e+02 2.32600449e+02 7.51652220e+01\n",
      "  7.36704867e+01 3.32873145e+01 4.95794121e+00 1.73781896e+02\n",
      "  5.41767977e+01 6.79799448e+01 1.25842729e+02 1.36608115e+01\n",
      "  1.46974107e+02 3.75625152e+01 1.50862217e+02 1.79138140e+02\n",
      "  2.61976138e+01 1.05998333e+02 1.77766440e+02 1.06029893e+02\n",
      "  1.27880855e+01 1.37189480e+02 1.69931429e+02 1.31811613e+02\n",
      "  2.41816258e+02 1.50158090e+02 2.31270890e+02 3.51935243e+01\n",
      "  3.56547449e+01 2.06692170e+02 1.01805270e+02 4.23306745e+01\n",
      "  2.37442197e+02 8.90280601e+01 1.92207898e+02 1.85855484e+02\n",
      "  2.26126359e+02 1.59660085e+02 1.92241263e+02 8.93179755e+01\n",
      "  6.91015403e+01 2.29346872e+02 1.09591345e+02 2.46999052e+02\n",
      "  1.69841023e+02 1.59154104e+02 2.93749691e+01 2.43069250e+02\n",
      "  1.15177506e+02 1.48067741e+02 1.04483022e+02 6.06789069e+01\n",
      "  2.31265157e+02 1.46861949e+02 7.34803720e-01 1.57989098e+02]\n",
      " [8.36210949e+01 1.34926874e+02 2.26801177e+02 9.14610586e+01\n",
      "  2.32584999e+02 1.59580190e+02 4.05023817e+00 2.37935932e+02\n",
      "  1.76869611e+02 2.55314650e+02 4.41191701e+01 3.51067519e+01\n",
      "  2.38744439e+02 1.78385449e+02 1.68960442e+01 1.93398541e+02\n",
      "  1.92992304e+02 2.36294281e+02 1.82150338e+02 3.18133663e+01\n",
      "  5.08931426e+00 6.71001264e+00 7.24646093e+00 6.30300333e+01\n",
      "  2.20167155e+02 1.37940752e+02 1.41522427e+02 2.15559908e+02\n",
      "  3.17883687e+01 7.14710218e+01 1.49954373e+02 2.48216512e+02\n",
      "  1.43623736e+02 4.77370608e+00 2.04961964e+02 5.96414141e+01\n",
      "  2.06618930e+02 9.92923249e+01 2.21066715e+02 1.91263141e+02\n",
      "  1.42397500e+02 3.49325378e+01 1.53389285e+01 3.10639247e+01\n",
      "  1.14052809e+01 2.75184971e+01 5.77815907e+01 1.82525179e+02\n",
      "  1.43287547e+02 3.21433092e+00 1.84254156e+01 2.47622740e+02\n",
      "  1.45433718e+02 5.20430681e+01 6.45953906e+01 1.90419419e+02\n",
      "  5.00299472e+01 1.48827885e+02 2.48325117e+02 2.16788173e+02\n",
      "  6.14010263e+01 1.26405047e+02 1.58708664e+02 2.12219110e+02\n",
      "  4.01385970e+01 4.75550776e+00 1.79256688e+01 1.24504348e+02\n",
      "  1.55220342e+02 1.45625968e+02 8.12447768e+01 2.53085736e+02\n",
      "  1.48414776e+02 9.73161402e+01 1.41042744e+02 1.90805614e+02\n",
      "  1.71323621e+02 6.78194068e+01 1.69817176e+01 9.47415547e+01\n",
      "  1.61207682e+02 5.38045465e+01 1.92705422e+02 1.70333392e+01\n",
      "  6.66406652e+01 2.06017168e+02 4.95191764e+01 1.63701986e+02\n",
      "  1.34315599e+02 2.36750840e+02 6.74039732e+01 1.68860392e+01\n",
      "  1.88176887e+02 1.97677576e+02 2.32400858e+02 2.38584850e+02\n",
      "  3.57160268e+00 5.99966940e+01 1.57895259e+02 2.42948178e+02]]\n",
      "<class 'numpy.ndarray'>\n"
     ]
    },
    {
     "data": {
      "image/png": "[encoded data removed]",
      "text/plain": [
       "<Figure size 288x144 with 1 Axes>"
      ]
     },
     "metadata": {
      "needs_background": "light"
     },
     "output_type": "display_data"
    }
   ],
   "source": [
    "import numpy as np\n",
    "from scipy import ndimage\n",
    "import matplotlib.pyplot as plt\n",
    "\n",
    "np.random.seed(1)\n",
    "n = 10\n",
    "l = 256\n",
    "im = np.zeros((l, l))\n",
    "print(im)\n",
    "points = l*np.random.random((2, n**2))\n",
    "print(points)\n",
    "im[(points[0]).astype(np.int), (points[1]).astype(np.int)] = 1\n",
    "im = ndimage.gaussian_filter(im, sigma=l/(4.*n))\n",
    "\n",
    "mask = im > im.mean()\n",
    "print(type(mask))\n",
    "\n",
    "label_im, nb_labels = ndimage.label(mask)\n",
    "\n",
    "# Find the largest connected component\n",
    "sizes = ndimage.sum(mask, label_im, range(nb_labels + 1))\n",
    "mask_size = sizes < 1000\n",
    "remove_pixel = mask_size[label_im]\n",
    "label_im[remove_pixel] = 0\n",
    "labels = np.unique(label_im)\n",
    "label_im = np.searchsorted(labels, label_im)\n",
    "\n",
    "# Now that we have only one connected component, extract it's bounding box\n",
    "slice_x, slice_y = ndimage.find_objects(label_im==4)[0]\n",
    "roi = im[slice_x, slice_y]\n",
    "\n",
    "plt.figure(figsize=(4, 2))\n",
    "plt.axes([0, 0, 1, 1])\n",
    "plt.imshow(roi)\n",
    "plt.axis('off')\n",
    "\n",
    "plt.show()"
   ]
  },
  {
   "cell_type": "code",
   "execution_count": null,
   "metadata": {},
   "outputs": [],
   "source": []
  }
 ],
 "metadata": {
  "kernelspec": {
   "display_name": "Python 3",
   "language": "python",
   "name": "python3"
  },
  "language_info": {
   "codemirror_mode": {
    "name": "ipython",
    "version": 3
   },
   "file_extension": ".py",
   "mimetype": "text/x-python",
   "name": "python",
   "nbconvert_exporter": "python",
   "pygments_lexer": "ipython3",
   "version": "3.8.3"
  }
 },
 "nbformat": 4,
 "nbformat_minor": 1
}
