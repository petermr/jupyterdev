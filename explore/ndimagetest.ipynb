{
 "cells": [
  {
   "cell_type": "code",
   "execution_count": 1,
   "metadata": {},
   "outputs": [
    {
     "name": "stdout",
     "output_type": "stream",
     "text": [
      "[[0 0 1 1 0 0]\n",
      " [0 0 0 1 0 0]\n",
      " [2 2 0 0 3 0]\n",
      " [0 0 0 4 0 0]] 4\n"
     ]
    }
   ],
   "source": [
    "from scipy.ndimage import label, generate_binary_structure\n",
    "from PIL import Image\n",
    "import numpy as np\n",
    "a = np.array([[0,0,1,1,0,0],\n",
    "              [0,0,0,1,0,0],\n",
    "              [1,1,0,0,1,0],\n",
    "              [0,0,0,1,0,0]])\n",
    "labeled_array, num_features = label(a)\n",
    "print(labeled_array, num_features)"
   ]
  },
  {
   "cell_type": "code",
   "execution_count": 2,
   "metadata": {
    "scrolled": true
   },
   "outputs": [
    {
     "name": "stdout",
     "output_type": "stream",
     "text": [
      "<class 'PIL.PngImagePlugin.PngImageFile'>\n",
      "PNG (830, 652) RGB\n",
      "<ImagingCore object at 0x7fc987a51170>\n"
     ]
    }
   ],
   "source": [
    "capcycle = \"/Users/pm286/workspace/jupyter/physchem/images/capacitycycle.png\"\n",
    "array = Image.open(capcycle)\n",
    "print(type(array))\n",
    "with Image.open(capcycle) as im:\n",
    "    print(im.format, im.size, im.mode)\n",
    "    print(im.getdata())\n"
   ]
  },
  {
   "cell_type": "code",
   "execution_count": 3,
   "metadata": {
    "scrolled": true
   },
   "outputs": [
    {
     "data": {
      "text/plain": [
       "<matplotlib.image.AxesImage at 0x7fc9853b1940>"
      ]
     },
     "execution_count": 3,
     "metadata": {},
     "output_type": "execute_result"
    },
    {
     "data": {
      "image/png": "[encoded data removed]",
      "text/plain": [
       "<Figure size 432x288 with 1 Axes>"
      ]
     },
     "metadata": {
      "needs_background": "light"
     },
     "output_type": "display_data"
    }
   ],
   "source": [
    "import imageio\n",
    "import numpy as np\n",
    "import matplotlib.pyplot as plt\n",
    "\n",
    "img = imageio.imread(capcycle)\n",
    "gray = lambda rgb : np.dot(rgb[... , :3] , [0.299 , 0.587, 0.114]) \n",
    "gray = gray(img)  \n",
    "\n",
    "plt.imshow(gray, cmap=plt.cm.gray, vmin=10, vmax=200, extent=(200,800,0,900))\n",
    "# plt.imshow(gray, cmap = plt.get_cmap(name = 'gray'), vmin=10, vmax=200, extent=(200,800,0,900))\n",
    "# print(gray)"
   ]
  },
  {
   "cell_type": "code",
   "execution_count": null,
   "metadata": {},
   "outputs": [],
   "source": [
    "import cv2\n",
    "import numpy as np\n",
    "\n",
    "# img = cv2.imread('input.png', 0)\n",
    "\n",
    "size = 2\n",
    "kernel = np.ones((size,size), np.uint8)\n",
    "# kernel = np.ones((3,3), np.uint8)\n",
    "# kernel = np.ones(7,7, np.uint8)\n",
    "\n",
    "# NOTE this erodes the white!\n",
    "img_erosion = cv2.erode(img, kernel, iterations=1)\n",
    "#print(img_erosion)\n",
    "img_erosion_dilate = cv2.dilate(img_erosion, kernel, iterations=1)\n",
    "#print(img_erosion_dilate)\n",
    "img_dilation = cv2.dilate(img, kernel, iterations=1)\n",
    "#print(img_dilation)\n",
    "img_dilation_erode = cv2.erode(img_dilation, kernel, iterations=1)\n",
    "#print(img_dilation_erode)\n",
    "\n",
    "cv2.imshow('Input', img)\n",
    "cv2.imshow('Erosion '+str(size), img_erosion)\n",
    "cv2.imshow('Dilation'+str(size), img_dilation)\n",
    "cv2.imshow('Erosion_dilate'+str(size), img_erosion_dilate )\n",
    "cv2.imshow('Dilation_erode'+str(size), img_dilation_erode)\n",
    "\n",
    "cv2.waitKey(0)"
   ]
  },
  {
   "cell_type": "code",
   "execution_count": null,
   "metadata": {
    "scrolled": true
   },
   "outputs": [],
   "source": [
    "from scipy import ndimage\n",
    "labeled_gray, num_features = label(gray)\n",
    "print (labeled_gray, num_features)\n",
    "plt.imshow(labeled_gray, vmin=0, vmax=1)  \n",
    "sizes = ndimage.sum(gray, labeled_gray, range(num_features + 1))\n",
    "sizes = [round(x) for x in sizes]\n",
    "print(\"sizes\", sizes)\n",
    "mean_vals = ndimage.sum(gray, labeled_gray, range(1, num_features + 1))\n",
    "# print(\"mean_vals\", mean_vals)\n"
   ]
  },
  {
   "cell_type": "code",
   "execution_count": null,
   "metadata": {},
   "outputs": [],
   "source": [
    "\n",
    "mask = img > img.mean()\n",
    "print(type(mask))\n",
    "\n",
    "label_img, nb_labels = ndimage.label(mask)\n",
    "\n",
    "# Find the largest connected component\n",
    "sizes = ndimage.sum(mask, label_img, range(nb_labels + 1))\n",
    "mask_size = sizes < 1000\n",
    "remove_pixel = mask_size[label_img]\n",
    "label_img[remove_pixel] = 0\n",
    "labels = np.unique(label_img)\n",
    "label_img = np.searchsorted(labels, label_img)\n",
    "\n",
    "# Now that we have only one connected component, extract it's bounding box\n",
    "# objects = ndimage.find_objects(label_img==4)\n",
    "objects = ndimage.find_objects(label_img==1)\n",
    "print(objects)\n",
    "slice_x, slice_y = objects[0]\n",
    "roi = img[slice_x, slice_y]\n",
    "\n",
    "plt.figure(figsize=(4, 2))\n",
    "plt.axes([0, 0, 1, 1])\n",
    "plt.imshow(roi)\n",
    "plt.axis('off')\n",
    "\n",
    "plt.show()"
   ]
  },
  {
   "cell_type": "code",
   "execution_count": null,
   "metadata": {},
   "outputs": [],
   "source": []
  }
 ],
 "metadata": {
  "kernelspec": {
   "display_name": "Python 3",
   "language": "python",
   "name": "python3"
  },
  "language_info": {
   "codemirror_mode": {
    "name": "ipython",
    "version": 3
   },
   "file_extension": ".py",
   "mimetype": "text/x-python",
   "name": "python",
   "nbconvert_exporter": "python",
   "pygments_lexer": "ipython3",
   "version": "3.8.3"
  }
 },
 "nbformat": 4,
 "nbformat_minor": 4
}
