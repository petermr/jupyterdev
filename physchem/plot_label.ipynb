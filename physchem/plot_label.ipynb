{
 "cells": [
  {
   "cell_type": "code",
   "execution_count": 1,
   "metadata": {
    "button": false,
    "new_sheet": false,
    "run_control": {
     "read_only": false
    }
   },
   "outputs": [],
   "source": [
    "%matplotlib inline\n",
    "\n",
    "import os\n",
    "HOME = os.path.expanduser(\"~\")\n",
    "JUPYTER = os.path.join(HOME, \"workspace\", \"jupyter\")\n",
    "IMAGES = os.path.join(JUPYTER, \"physchem\", \"images\")\n",
    "PHYSCHEM_LIION = os.path.join(JUPYTER, \"physchem\", \"liion\")"
   ]
  },
  {
   "cell_type": "code",
   "execution_count": 2,
   "metadata": {
    "scrolled": false
   },
   "outputs": [
    {
     "name": "stdout",
     "output_type": "stream",
     "text": [
      "dict_keys(['RED_BLACK', 'CAPACITY', 'GREEN', 'PANEL2', 'PLOT2', 'PLOT3', 'PLOT32'])\n",
      "f /Users/pm286/workspace/jupyter/physchem/liion/PMC7077619/pdfimages/image.8.3.81_523.164_342/raw.png True\n"
     ]
    }
   ],
   "source": [
    "from labels import label_binary\n",
    "PHYSCHEM_IMAGES = os.path.join(JUPYTER, \"physchem\", \"images\")\n",
    "imgdict = {\"RED_BLACK\" : os.path.join(PHYSCHEM_IMAGES, \"red_black_cv.png\"),\n",
    "        \"CAPACITY\" : os.path.join(PHYSCHEM_IMAGES, \"capacitycycle.png\"),\n",
    "        \"GREEN\" : os.path.join(PHYSCHEM_LIION, 'PMC7077619/pdfimages/image.8.3.81_523.164_342/raw.png'),\n",
    "        \"PANEL2\" : os.path.join(PHYSCHEM_LIION, 'PMC7075112/pdfimages/image.5.2.98_499.292_449/raw.png'),\n",
    "        \"PLOT2\" : os.path.join(PHYSCHEM_LIION, 'PMC7075112/pdfimages/image.4.3.117_479.722_864/raw.png'),\n",
    "        \"PLOT3\" : os.path.join(PHYSCHEM_LIION, 'PMC7074852/pdfimages/image.7.3.86_507.385_495/raw.png'),\n",
    "        \"PLOT32\" : os.path.join(PHYSCHEM_LIION, 'PMC7067258/pdfimages/image.5.1.52_283.71_339/raw.png'),\n",
    "          }\n",
    "\n",
    "# https://note.nkmk.me/en/python-numpy-opencv-image-binarization/\n",
    "import scipy.ndimage\n",
    "from PIL import Image\n",
    "import numpy as np\n",
    "from collections import Counter\n",
    "\n",
    "\n",
    "        \n",
    "print(imgdict.keys())\n",
    "image_file = imgdict[\"GREEN\"]\n",
    "print(\"f\", image_file, os.path.exists(image_file))\n",
    "label_binary(image_file, img_count=10, thresh=180)"
   ]
  },
  {
   "cell_type": "markdown",
   "metadata": {
    "button": false,
    "new_sheet": false,
    "run_control": {
     "read_only": false
    }
   },
   "source": [
    "\n",
    "# Label image regions\n",
    "\n",
    "\n",
    "This example shows how to segment an image with image labelling. The following\n",
    "steps are applied:\n",
    "\n",
    "1. Thresholding with automatic Otsu method\n",
    "2. Close small holes with binary closing\n",
    "3. Remove artifacts touching image border\n",
    "4. Measure image regions to filter small objects\n"
   ]
  },
  {
   "cell_type": "code",
   "execution_count": 3,
   "metadata": {
    "button": false,
    "new_sheet": false,
    "run_control": {
     "read_only": false
    }
   },
   "outputs": [
    {
     "name": "stdout",
     "output_type": "stream",
     "text": [
      "image <class 'PIL.Image.Image'>\n",
      "OTSU not yet implemented\n",
      "labels  None\n"
     ]
    }
   ],
   "source": [
    "import matplotlib.pyplot as plt\n",
    "import matplotlib.patches as mpatches\n",
    "\n",
    "from skimage import data\n",
    "from skimage.filters import threshold_otsu\n",
    "from skimage.segmentation import clear_border\n",
    "from skimage.measure import label, regionprops\n",
    "from skimage.morphology import closing, square\n",
    "from skimage.color import label2rgb\n",
    "\n",
    "\n",
    "# image = data.coins()[50:-50, 50:-50]\n",
    "# requires grayscale\n",
    "def labels(image):\n",
    "    print(\"OTSU not yet implemented\")\n",
    "    return\n",
    "\n",
    "    # apply threshold\n",
    "    thresh = threshold_otsu(image)\n",
    "    bw = closing(image > thresh, square(3))\n",
    "\n",
    "    # remove artifacts connected to image border\n",
    "    cleared = clear_border(bw)\n",
    "\n",
    "    # label image regions\n",
    "    label_image = label(cleared)\n",
    "    # to make the background transparent, pass the value of `bg_label`,\n",
    "    # and leave `bg_color` as `None` and `kind` as `overlay`\n",
    "    image_label_overlay = label2rgb(label_image, image=image, bg_label=0)\n",
    "\n",
    "    fig, ax = plt.subplots(figsize=(10, 6))\n",
    "    ax.imshow(image_label_overlay)\n",
    "\n",
    "    for region in regionprops(label_image):\n",
    "        # take regions with large enough areas\n",
    "        if region.area >= 100:\n",
    "            # draw rectangle around segmented coins\n",
    "            minr, minc, maxr, maxc = region.bbox\n",
    "            rect = mpatches.Rectangle((minc, minr), maxc - minc, maxr - minr,\n",
    "                                      fill=False, edgecolor='red', linewidth=2)\n",
    "            ax.add_patch(rect)\n",
    "\n",
    "    ax.set_axis_off()\n",
    "    plt.tight_layout()\n",
    "    plt.show()\n",
    "    \n",
    "JUPYTER = \"/Users/pm286/workspace/jupyter\"\n",
    "import os\n",
    "import numpy as np\n",
    "from PIL import Image\n",
    "imagefile = os.path.join(JUPYTER, \"physchem\", \"images\", \"red_black_cv.png\")\n",
    "image = Image.open(imagefile).convert('LA')\n",
    "print(\"image\", type(image))\n",
    "labels = labels(image)\n",
    "print(\"labels \", labels)"
   ]
  },
  {
   "cell_type": "code",
   "execution_count": 4,
   "metadata": {
    "button": false,
    "new_sheet": false,
    "run_control": {
     "read_only": false
    }
   },
   "outputs": [
    {
     "name": "stdout",
     "output_type": "stream",
     "text": [
      "s\n"
     ]
    }
   ],
   "source": [
    "print(\"s\")"
   ]
  },
  {
   "cell_type": "code",
   "execution_count": 5,
   "metadata": {
    "button": false,
    "new_sheet": false,
    "run_control": {
     "read_only": false
    }
   },
   "outputs": [
    {
     "ename": "IndentationError",
     "evalue": "expected an indented block (<ipython-input-5-3b8349498280>, line 6)",
     "output_type": "error",
     "traceback": [
      "\u001b[0;36m  File \u001b[0;32m\"<ipython-input-5-3b8349498280>\"\u001b[0;36m, line \u001b[0;32m6\u001b[0m\n\u001b[0;31m    \"\"\"\u001b[0m\n\u001b[0m    ^\u001b[0m\n\u001b[0;31mIndentationError\u001b[0m\u001b[0;31m:\u001b[0m expected an indented block\n"
     ]
    }
   ],
   "source": [
    "def findlines(image):\n",
    "#    https://docs.opencv.org/3.4/dd/dd7/tutorial_morph_lines_detection.html\n",
    "\"\"\"\n",
    "@file morph_lines_detection.py\n",
    "@brief Use morphology transformations for extracting horizontal and vertical lines sample code\n",
    "\"\"\"\n",
    "import numpy as np\n",
    "import sys\n",
    "import cv2 as cv\n",
    "\n",
    "\n",
    "def show_wait_destroy(winname, img):\n",
    "    cv.imshow(winname, img)\n",
    "    cv.moveWindow(winname, 500, 0)\n",
    "    cv.waitKey(0)\n",
    "    cv.destroyWindow(winname)\n",
    "def main(argv):\n",
    "    # [load_image]\n",
    "    # Check number of arguments\n",
    "    if len(argv) < 1:\n",
    "        print ('Not enough parameters')\n",
    "        print ('Usage:\\nmorph_lines_detection.py < path_to_image >')\n",
    "        return -1\n",
    "    # Load the image\n",
    "    src = cv.imread(argv[0], cv.IMREAD_COLOR)\n",
    "    # Check if image is loaded fine\n",
    "    if src is None:\n",
    "        print ('Error opening image: ' + argv[0])\n",
    "        return -1\n",
    "    # Show source image\n",
    "    cv.imshow(\"src\", src)\n",
    "    # [load_image]\n",
    "    # [gray]\n",
    "    # Transform source image to gray if it is not already\n",
    "    if len(src.shape) != 2:\n",
    "        gray = cv.cvtColor(src, cv.COLOR_BGR2GRAY)\n",
    "    else:\n",
    "        gray = src\n",
    "    # Show gray image\n",
    "    show_wait_destroy(\"gray\", gray)\n",
    "    # [gray]\n",
    "    # [bin]\n",
    "    # Apply adaptiveThreshold at the bitwise_not of gray, notice the ~ symbol\n",
    "    gray = cv.bitwise_not(gray)\n",
    "    bw = cv.adaptiveThreshold(gray, 255, cv.ADAPTIVE_THRESH_MEAN_C, \\\n",
    "                                cv.THRESH_BINARY, 15, -2)\n",
    "    # Show binary image\n",
    "    show_wait_destroy(\"binary\", bw)\n",
    "    # [bin]\n",
    "    # [init]\n",
    "    # Create the images that will use to extract the horizontal and vertical lines\n",
    "    horizontal = np.copy(bw)\n",
    "    vertical = np.copy(bw)\n",
    "    # [init]\n",
    "    # [horiz]\n",
    "    # Specify size on horizontal axis\n",
    "    cols = horizontal.shape[1]\n",
    "    horizontal_size = cols // 30\n",
    "    # Create structure element for extracting horizontal lines through morphology operations\n",
    "    horizontalStructure = cv.getStructuringElement(cv.MORPH_RECT, (horizontal_size, 1))\n",
    "    # Apply morphology operations\n",
    "    horizontal = cv.erode(horizontal, horizontalStructure)\n",
    "    horizontal = cv.dilate(horizontal, horizontalStructure)\n",
    "    # Show extracted horizontal lines\n",
    "    show_wait_destroy(\"horizontal\", horizontal)\n",
    "    # [horiz]\n",
    "    # [vert]\n",
    "    # Specify size on vertical axis\n",
    "    rows = vertical.shape[0]\n",
    "    verticalsize = rows // 30\n",
    "    # Create structure element for extracting vertical lines through morphology operations\n",
    "    verticalStructure = cv.getStructuringElement(cv.MORPH_RECT, (1, verticalsize))\n",
    "    # Apply morphology operations\n",
    "    vertical = cv.erode(vertical, verticalStructure)\n",
    "    vertical = cv.dilate(vertical, verticalStructure)\n",
    "    # Show extracted vertical lines\n",
    "    show_wait_destroy(\"vertical\", vertical)\n",
    "    # [vert]\n",
    "    # [smooth]\n",
    "    # Inverse vertical image\n",
    "    vertical = cv.bitwise_not(vertical)\n",
    "    show_wait_destroy(\"vertical_bit\", vertical)\n",
    "    '''\n",
    "    Extract edges and smooth image according to the logic\n",
    "    1. extract edges\n",
    "    2. dilate(edges)\n",
    "    3. src.copyTo(smooth)\n",
    "    4. blur smooth img\n",
    "    5. smooth.copyTo(src, edges)\n",
    "    '''\n",
    "    # Step 1\n",
    "    edges = cv.adaptiveThreshold(vertical, 255, cv.ADAPTIVE_THRESH_MEAN_C, \\\n",
    "                                cv.THRESH_BINARY, 3, -2)\n",
    "    show_wait_destroy(\"edges\", edges)\n",
    "    # Step 2\n",
    "    kernel = np.ones((2, 2), np.uint8)\n",
    "    edges = cv.dilate(edges, kernel)\n",
    "    show_wait_destroy(\"dilate\", edges)\n",
    "    # Step 3\n",
    "    smooth = np.copy(vertical)\n",
    "    # Step 4\n",
    "    smooth = cv.blur(smooth, (2, 2))\n",
    "    # Step 5\n",
    "    (rows, cols) = np.where(edges != 0)\n",
    "    vertical[rows, cols] = smooth[rows, cols]\n",
    "    # Show final result\n",
    "    show_wait_destroy(\"smooth - final\", vertical)\n",
    "    # [smooth]\n",
    "    return 0\n",
    "\n",
    "if __name__ == \"__main__\":\n",
    "    main(sys.argv[1:])        \n",
    "    nparray = Image.toarray(image)\n",
    "    window = 3\n",
    "    print(\"imng \", image.size())"
   ]
  }
 ],
 "metadata": {
  "kernelspec": {
   "display_name": "Python 3",
   "language": "python",
   "name": "python3"
  },
  "language_info": {
   "codemirror_mode": {
    "name": "ipython",
    "version": 3
   },
   "file_extension": ".py",
   "mimetype": "text/x-python",
   "name": "python",
   "nbconvert_exporter": "python",
   "pygments_lexer": "ipython3",
   "version": "3.8.3"
  }
 },
 "nbformat": 4,
 "nbformat_minor": 1
}
