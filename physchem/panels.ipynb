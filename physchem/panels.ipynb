{
 "cells": [
  {
   "cell_type": "code",
   "execution_count": 1,
   "metadata": {
    "button": false,
    "new_sheet": false,
    "run_control": {
     "read_only": false
    }
   },
   "outputs": [
    {
     "name": "stderr",
     "output_type": "stream",
     "text": [
      "/opt/anaconda3/lib/python3.8/site-packages/skimage/viewer/utils/__init__.py:1: UserWarning: Recommended matplotlib backend is `Agg` for full skimage.viewer functionality.\n",
      "  from .core import *\n"
     ]
    },
    {
     "name": "stdout",
     "output_type": "stream",
     "text": [
      "Wed  2 Dec 2020 14:34:08 GMT\r\n"
     ]
    }
   ],
   "source": [
    "# figures and captions\n",
    "%matplotlib inline\n",
    "# http://kba.cloud/hocr-spec/1.2/\n",
    "from pathlib import Path\n",
    "import os\n",
    "# https://pypi.org/project/pytesseract/\n",
    "# If you don't have tesseract executable in your PATH, include the following:\n",
    "# pytesseract.pytesseract.tesseract_cmd = r'/#usr/local/bin/tesseract'\n",
    "# Example tesseract_cmd = r'C:\\Program Files (x86)\\Tesseract-OCR\\tesseract'\n",
    "import numpy as np\n",
    "import matplotlib.pyplot as plt\n",
    "from matplotlib.collections import PatchCollection\n",
    "from matplotlib.patches import Rectangle\n",
    "try:\n",
    "    from PIL import Image\n",
    "except ImportError:\n",
    "    import Image\n",
    "import pytesseract36 as pytesseract\n",
    "import Tesseract as tt\n",
    "# https://nanonets.com/blog/ocr-with-tesseract/\n",
    "import matplotlib\n",
    "import xml.etree.ElementTree as ET\n",
    "from skimage import data, img_as_float\n",
    "from skimage import exposure\n",
    "from skimage.viewer import ImageViewer\n",
    "\n",
    "import time\n",
    "import html2text\n",
    "import nltk\n",
    "# %matplotlib inline\n",
    "\n",
    "HOME = str(Path.home())\n",
    "PROJECTS = os.path.join(HOME, \"projects\")\n",
    "WORKSPACE = os.path.join(HOME, \"workspace\")\n",
    "JUPYTER = os.path.join(WORKSPACE, \"jupyter\")\n",
    "\n",
    "!date"
   ]
  },
  {
   "cell_type": "code",
   "execution_count": 2,
   "metadata": {
    "button": false,
    "new_sheet": false,
    "run_control": {
     "read_only": false
    }
   },
   "outputs": [],
   "source": [
    "PHYSCHEM = os.path.join(JUPYTER, \"physchem\") \n",
    "PHYSCHEM_IMAGES = os.path.join(PHYSCHEM, \"images\") \n",
    "PHYSCHEM_LIION = os.path.join(PHYSCHEM, \"liion\") \n",
    "PHYSCHEM_HTML = os.path.join(PHYSCHEM, \"html\") "
   ]
  },
  {
   "cell_type": "code",
   "execution_count": 3,
   "metadata": {
    "button": false,
    "new_sheet": false,
    "run_control": {
     "read_only": false
    }
   },
   "outputs": [],
   "source": [
    "PROJECT_DIR = os.path.join(PHYSCHEM, \"liion\")\n"
   ]
  },
  {
   "cell_type": "code",
   "execution_count": 4,
   "metadata": {
    "button": false,
    "new_sheet": false,
    "run_control": {
     "read_only": false
    }
   },
   "outputs": [],
   "source": [
    "debug = True\n",
    "ml = False"
   ]
  },
  {
   "cell_type": "code",
   "execution_count": null,
   "metadata": {},
   "outputs": [],
   "source": []
  },
  {
   "cell_type": "code",
   "execution_count": 5,
   "metadata": {},
   "outputs": [],
   "source": [
    "import os\n",
    "CAPACITY_CYCLE = \"capacity_cycle\"\n",
    "RED_BLACK = \"red_black\"\n",
    "GREEN = \"green\"\n",
    "PANEL2 = \"panel2\"\n",
    "PLOT2 = \"panel2b\"\n",
    "PLOT3 = \"panel3\"\n",
    "PLOT32 = \"panel3*2\"\n",
    "\n",
    "def get_test_image(name=CAPACITY_CYCLE):\n",
    "    images = {\n",
    "        CAPACITY_CYCLE : os.path.join(PHYSCHEM_IMAGES, 'capacitycycle.png'),\n",
    "        RED_BLACK : os.path.join(PHYSCHEM_IMAGES, 'red_black_cv.png'),\n",
    "        GREEN : os.path.join(PHYSCHEM_LIION, 'PMC7077619/pdfimages/image.8.3.81_523.164_342/raw.png'),\n",
    "        PANEL2 : os.path.join(PHYSCHEM_LIION, 'PMC7075112/pdfimages/image.5.2.98_499.292_449/raw.png'),\n",
    "        PLOT2 : os.path.join(PHYSCHEM_LIION, 'PMC7075112/pdfimages/image.4.3.117_479.722_864/raw.png'),\n",
    "        PLOT3 : os.path.join(PHYSCHEM_LIION, 'PMC7074852/pdfimages/image.7.3.86_507.385_495/raw.png'),\n",
    "        PLOT32 : os.path.join(PHYSCHEM_LIION, 'PMC7067258/pdfimages/image.5.1.52_283.71_339/raw.png'),\n",
    "    }\n",
    "    image_file = images.get(name)\n",
    "    if image_file == None:\n",
    "        print(\"no test image\", name)\n",
    "        return\n",
    "    image = Image.open(image_file, 'r')\n",
    "    if debug:\n",
    "        image.show()\n",
    "    print(\"image file\", type(image), type(image_file))\n",
    "    return (image, image_file)\n"
   ]
  },
  {
   "cell_type": "code",
   "execution_count": 6,
   "metadata": {},
   "outputs": [],
   "source": [
    "if __name__ == '__main__':\n",
    "    pass\n"
   ]
  },
  {
   "cell_type": "code",
   "execution_count": 7,
   "metadata": {},
   "outputs": [],
   "source": [
    "def draw_boxes_round_tesseract_chars(image, imagefile):\n",
    "    print(\"do not use draw_boxes_round_tesseract_chars, not tested\")\n",
    "    return\n",
    "    import cv2\n",
    "    imagearray = np.array(image)\n",
    "    img = imagearray\n",
    "    h, w, c = imagearray.shape\n",
    "    print(h, w, c)\n",
    "    boxes = pytesseract.image_to_boxes(imagefile) \n",
    "    print(boxes[0])\n",
    "    for b in boxes.splitlines():\n",
    "        b = b.split(' ')\n",
    "        img = cv2.rectangle(img, (int(b[1]), h - int(b[2])), (int(b[3]), h - int(b[4])), (0, 255, 0), 2)\n",
    "\n",
    "    cv2.imshow('img', img)\n",
    "    cv2.waitKey(0)"
   ]
  },
  {
   "cell_type": "code",
   "execution_count": 8,
   "metadata": {
    "scrolled": true
   },
   "outputs": [
    {
     "name": "stdout",
     "output_type": "stream",
     "text": [
      "image file <class 'PIL.PngImagePlugin.PngImageFile'> <class 'str'>\n",
      "<class 'PIL.PngImagePlugin.PngImageFile'> <PIL.PngImagePlugin.PngImageFile image mode=RGB size=1354x546 at 0x7FC0446F72B0> <class 'str'> /Users/pm286/workspace/jupyter/physchem/liion/PMC7077619/pdfimages/image.8.3.81_523.164_342/raw.png\n",
      "<PIL.PngImagePlugin.PngImageFile image mode=RGB size=1354x546 at 0x7FC0446F72B0> /Users/pm286/workspace/jupyter/physchem/liion/PMC7077619/pdfimages/image.8.3.81_523.164_342/raw.png\n"
     ]
    },
    {
     "ename": "NameError",
     "evalue": "name 'decode_title' is not defined",
     "output_type": "error",
     "traceback": [
      "\u001b[0;31m---------------------------------------------------------------------------\u001b[0m",
      "\u001b[0;31mNameError\u001b[0m                                 Traceback (most recent call last)",
      "\u001b[0;32m<ipython-input-8-bedf6c453de0>\u001b[0m in \u001b[0;36m<module>\u001b[0;34m\u001b[0m\n\u001b[1;32m     21\u001b[0m \u001b[0mdebug\u001b[0m \u001b[0;34m=\u001b[0m \u001b[0;32mFalse\u001b[0m\u001b[0;34m\u001b[0m\u001b[0;34m\u001b[0m\u001b[0m\n\u001b[1;32m     22\u001b[0m \u001b[0mtess\u001b[0m \u001b[0;34m=\u001b[0m \u001b[0mtt\u001b[0m\u001b[0;34m.\u001b[0m\u001b[0mTesseract\u001b[0m\u001b[0;34m(\u001b[0m\u001b[0mpng\u001b[0m\u001b[0;34m=\u001b[0m\u001b[0;32mNone\u001b[0m\u001b[0;34m)\u001b[0m\u001b[0;34m\u001b[0m\u001b[0;34m\u001b[0m\u001b[0m\n\u001b[0;32m---> 23\u001b[0;31m \u001b[0mtextboxes\u001b[0m \u001b[0;34m=\u001b[0m \u001b[0mtess\u001b[0m\u001b[0;34m.\u001b[0m\u001b[0mget_tesseract_textboxes\u001b[0m\u001b[0;34m(\u001b[0m\u001b[0mimage_file\u001b[0m\u001b[0;34m)\u001b[0m\u001b[0;34m\u001b[0m\u001b[0;34m\u001b[0m\u001b[0m\n\u001b[0m\u001b[1;32m     24\u001b[0m \u001b[0mplot_textboxes\u001b[0m\u001b[0;34m(\u001b[0m\u001b[0mtextboxes\u001b[0m\u001b[0;34m)\u001b[0m\u001b[0;34m\u001b[0m\u001b[0;34m\u001b[0m\u001b[0m\n\u001b[1;32m     25\u001b[0m \u001b[0mcreate_baselines\u001b[0m\u001b[0;34m(\u001b[0m\u001b[0mtextboxes\u001b[0m\u001b[0;34m)\u001b[0m\u001b[0;34m\u001b[0m\u001b[0;34m\u001b[0m\u001b[0m\n",
      "\u001b[0;32m~/workspace/jupyter/physchem/Tesseract.py\u001b[0m in \u001b[0;36mget_tesseract_textboxes\u001b[0;34m(self, image_file)\u001b[0m\n\u001b[1;32m    239\u001b[0m         \u001b[0mtextboxes\u001b[0m \u001b[0;34m=\u001b[0m \u001b[0;34m[\u001b[0m\u001b[0;34m]\u001b[0m\u001b[0;34m\u001b[0m\u001b[0;34m\u001b[0m\u001b[0m\n\u001b[1;32m    240\u001b[0m         \u001b[0;32mfor\u001b[0m \u001b[0mpara\u001b[0m \u001b[0;32min\u001b[0m \u001b[0mparas\u001b[0m\u001b[0;34m:\u001b[0m\u001b[0;34m\u001b[0m\u001b[0;34m\u001b[0m\u001b[0m\n\u001b[0;32m--> 241\u001b[0;31m             \u001b[0mparams\u001b[0m \u001b[0;34m=\u001b[0m \u001b[0mdecode_title\u001b[0m\u001b[0;34m(\u001b[0m\u001b[0mpara\u001b[0m\u001b[0;34m)\u001b[0m\u001b[0;34m\u001b[0m\u001b[0;34m\u001b[0m\u001b[0m\n\u001b[0m\u001b[1;32m    242\u001b[0m             \u001b[0;32mif\u001b[0m \u001b[0mparams\u001b[0m \u001b[0;34m==\u001b[0m \u001b[0;32mNone\u001b[0m\u001b[0;34m:\u001b[0m\u001b[0;34m\u001b[0m\u001b[0;34m\u001b[0m\u001b[0m\n\u001b[1;32m    243\u001b[0m                 \u001b[0mprint\u001b[0m\u001b[0;34m(\u001b[0m\u001b[0;34m\"no para params\"\u001b[0m\u001b[0;34m)\u001b[0m\u001b[0;34m\u001b[0m\u001b[0;34m\u001b[0m\u001b[0m\n",
      "\u001b[0;31mNameError\u001b[0m: name 'decode_title' is not defined"
     ]
    }
   ],
   "source": [
    "import sys\n",
    "import Tesseract as tt\n",
    "sys.path.append('/Users/pm286/workspace/jupyter/classes')\n",
    "import labels\n",
    "image_array = []\n",
    "image, image_file = get_test_image(\n",
    "#    CAPACITY_CYCLE\n",
    "#    RED_BLACK\n",
    "    GREEN\n",
    "#    PANEL2\n",
    "#    PLOT2\n",
    "#    PLOT3\n",
    "#    PLOT32\n",
    ")\n",
    "\n",
    "# findlines(image)\n",
    "print(type(image), image, type(image_file), image_file)\n",
    "# draw_boxes_round_tesseract_chars(image, image_file)\n",
    "if debug:\n",
    "    print(image, image_file)\n",
    "debug = False\n",
    "tess = tt.Tesseract(png=None)\n",
    "textboxes = tess.get_tesseract_textboxes(image_file)\n",
    "plot_textboxes(textboxes)\n",
    "create_baselines(textboxes)\n",
    "create_sections(image)\n",
    "# plot_sections()\n",
    "# plot_box(WHOLE_AREA)\n",
    "plot_box(BOTTOM_TRIMMED)\n",
    "\n"
   ]
  },
  {
   "cell_type": "code",
   "execution_count": null,
   "metadata": {
    "button": false,
    "new_sheet": false,
    "run_control": {
     "read_only": false
    }
   },
   "outputs": [],
   "source": [
    "print(\"FINISHED\")"
   ]
  },
  {
   "cell_type": "code",
   "execution_count": null,
   "metadata": {},
   "outputs": [],
   "source": []
  }
 ],
 "metadata": {
  "kernelspec": {
   "display_name": "Python 3",
   "language": "python",
   "name": "python3"
  },
  "language_info": {
   "codemirror_mode": {
    "name": "ipython",
    "version": 3
   },
   "file_extension": ".py",
   "mimetype": "text/x-python",
   "name": "python",
   "nbconvert_exporter": "python",
   "pygments_lexer": "ipython3",
   "version": "3.8.3"
  }
 },
 "nbformat": 4,
 "nbformat_minor": 4
}
