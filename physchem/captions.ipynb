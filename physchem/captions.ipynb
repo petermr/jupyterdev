{
 "cells": [
  {
   "cell_type": "code",
   "execution_count": 1,
   "metadata": {},
   "outputs": [],
   "source": [
    "# figures and captions\n",
    "%matplotlib inline\n",
    "\n",
    "from pathlib import Path\n",
    "import os\n",
    "\n",
    "HOME = str(Path.home())\n",
    "PROJECTS = os.path.join(HOME, \"projects\")\n",
    "WORKSPACE = os.path.join(HOME, \"workspace\")"
   ]
  },
  {
   "cell_type": "code",
   "execution_count": 2,
   "metadata": {},
   "outputs": [],
   "source": [
    "JUPYTER = os.path.join(WORKSPACE, \"jupyter\")\n",
    "PHYSCHEM = os.path.join(JUPYTER, \"physchem\") \n",
    "PHYSCHEM_IMAGES = os.path.join(PHYSCHEM, \"images\") \n",
    "PHYSCHEM_HTML = os.path.join(PHYSCHEM, \"html\") "
   ]
  },
  {
   "cell_type": "code",
   "execution_count": 3,
   "metadata": {},
   "outputs": [],
   "source": [
    "BATTERY = os.path.join(PROJECTS, \"open-battery\")\n",
    "PROJECT_DIR = os.path.join(PHYSCHEM, \"liion\")\n",
    "# os.chdir(PROJECT_DIR)\n",
    "# os.listdir()"
   ]
  },
  {
   "cell_type": "code",
   "execution_count": 4,
   "metadata": {},
   "outputs": [
    {
     "name": "stdout",
     "output_type": "stream",
     "text": [
      "163\n"
     ]
    }
   ],
   "source": [
    "import glob\n",
    "os.chdir(PROJECT_DIR)\n",
    "figures = glob.glob(\"PMC*/sections/fig*/*.xml\")\n",
    "print(len(figures))"
   ]
  },
  {
   "cell_type": "code",
   "execution_count": 5,
   "metadata": {},
   "outputs": [
    {
     "name": "stdout",
     "output_type": "stream",
     "text": [
      "begin tesseract\n",
      "end tesseract\n"
     ]
    }
   ],
   "source": [
    "# https://pypi.org/project/pytesseract/\n",
    "try:\n",
    "    from PIL import Image\n",
    "except ImportError:\n",
    "    import Image\n",
    "import pytesseract\n",
    "\n",
    "print(\"begin tesseract\")\n",
    "\n",
    "# If you don't have tesseract executable in your PATH, include the following:\n",
    "# pytesseract.pytesseract.tesseract_cmd = r'/usr/local/bin/tesseract'\n",
    "# Example tesseract_cmd = r'C:\\Program Files (x86)\\Tesseract-OCR\\tesseract'\n",
    "print(\"end tesseract\")\n"
   ]
  },
  {
   "cell_type": "code",
   "execution_count": 6,
   "metadata": {},
   "outputs": [
    {
     "name": "stdout",
     "output_type": "stream",
     "text": [
      "/Users/pm286/workspace/jupyter/physchem\n"
     ]
    },
    {
     "name": "stderr",
     "output_type": "stream",
     "text": [
      "/opt/anaconda3/lib/python3.8/site-packages/skimage/viewer/utils/__init__.py:1: UserWarning: Recommended matplotlib backend is `Agg` for full skimage.viewer functionality.\n",
      "  from .core import *\n"
     ]
    },
    {
     "name": "stdout",
     "output_type": "stream",
     "text": [
      "Specific capacity (mA hg’)\n",
      "\n",
      "350\n",
      "\n",
      "wo\n",
      "So\n",
      "oO\n",
      "\n",
      "250\n",
      "\n",
      "200\n",
      "\n",
      "150\n",
      "\n",
      "100\n",
      "\n",
      "a\n",
      "oO\n",
      "\n",
      "500\n",
      "\n",
      "1000\n",
      "Cycle number\n",
      "\n",
      "1500\n",
      "\n",
      " \n",
      "\n",
      "2000\n",
      "\f",
      "\n"
     ]
    }
   ],
   "source": [
    "if __name__ == '__main__':\n",
    "    pass\n",
    "\n",
    "os.chdir(PHYSCHEM)\n",
    "from PIL import Image\n",
    "\n",
    "print(os.getcwd())\n",
    "test_png = os.path.join(PHYSCHEM_IMAGES, 'capacitycycle.png')\n",
    "\n",
    "import matplotlib\n",
    "import matplotlib.pyplot as plt\n",
    "import numpy as np\n",
    "\n",
    "from skimage import data, img_as_float\n",
    "from skimage import exposure\n",
    "from skimage.viewer import ImageViewer\n",
    "\n",
    "image = Image.open(test_png, 'r')\n",
    "\n",
    "# viewer = ImageViewer(image)\n",
    "# viewer.show()\n",
    "tesseract_strings = pytesseract.image_to_string(Image.open(test_png))\n",
    "print(tesseract_strings)"
   ]
  },
  {
   "cell_type": "code",
   "execution_count": 7,
   "metadata": {},
   "outputs": [
    {
     "name": "stdout",
     "output_type": "stream",
     "text": [
      "S 166 0 184 0 0\n",
      "p 169 0 199 0 0\n",
      "e 188 0 203 0 0\n",
      "c 205 0 221 0 0\n",
      "i 223 0 238 0 0\n",
      "f 241 0 244 0 0\n",
      "i 24 \n",
      "...\n",
      " 663 76 0\n",
      "~ 126 94 799 640 0\n",
      "2 758 52 774 76 0\n",
      "0 777 52 792 76 0\n",
      "0 795 52 810 76 0\n",
      "0 813 52 828 76 0\n",
      "\n"
     ]
    }
   ],
   "source": [
    "# In order to bypass the image conversions of pytesseract, just use relative or absolute image path\n",
    "# NOTE: In this case you should provide tesseract supported images or tesseract will return error\n",
    "# print(pytesseract.image_to_string('test.png'))\n",
    "\n",
    "# Batch processing with a single file containing the list of multiple image file paths\n",
    "# print(pytesseract.image_to_string('images.txt'))\n",
    "\n",
    "# Timeout/terminate the tesseract job after a period of time\n",
    "\"\"\"\n",
    "try:\n",
    "    print(pytesseract.image_to_string('test.jpg', timeout=2)) # Timeout after 2 seconds\n",
    "    print(pytesseract.image_to_string('test.jpg', timeout=0.5)) # Timeout after half a second\n",
    "except RuntimeError as timeout_error:\n",
    "    # Tesseract processing is terminated\n",
    "    pass\n",
    "\"\"\"\n",
    "# Get bounding box estimates\n",
    "bboxes = pytesseract.image_to_boxes(Image.open(test_png))\n",
    "print(bboxes[:100], \"\\n...\\n\", bboxes[-100:])"
   ]
  },
  {
   "cell_type": "code",
   "execution_count": 8,
   "metadata": {
    "scrolled": true
   },
   "outputs": [
    {
     "name": "stdout",
     "output_type": "stream",
     "text": [
      "<class 'str'> \n",
      " level\tpage_num\tblock_num\tpar_num\tline_num\tword_num\tleft\ttop\twidth\theight\tconf\ttext\n",
      "1\t1\t0\t0\t0\t0\t0\t0\t830\t652\t-1\t\n",
      "2\t1\t1\t0\t0\t0\t2\t93\t38\t393\t-1\t\n",
      "3\t1\t1\t1\t0\t0\t2\t93\t38\t393\t-1\t\n",
      "4\t1\t1\t1\t1\t0\t2\t93\t38\t393\t-1\t\n",
      "5\t1\t1 \n",
      "...\n",
      " 46\t-1\t\n",
      "4\t1\t12\t1\t1\t0\t126\t12\t673\t546\t-1\t\n",
      "5\t1\t12\t1\t1\t1\t126\t12\t673\t546\t95\t \n",
      "2\t1\t13\t0\t0\t0\t758\t576\t70\t24\t-1\t\n",
      "3\t1\t13\t1\t0\t0\t758\t576\t70\t24\t-1\t\n",
      "4\t1\t13\t1\t1\t0\t758\t576\t70\t24\t-1\t\n",
      "5\t1\t13\t1\t1\t1\t758\t576\t70\t24\t96\t2000\n",
      "\n"
     ]
    }
   ],
   "source": [
    "# Get verbose data including boxes, confidences, line and page numbers\n",
    "chunks = pytesseract.image_to_data(Image.open(test_png))\n",
    "print(type(chunks),\"\\n\", chunks[:200], \"\\n...\\n\", chunks[-200:])"
   ]
  },
  {
   "cell_type": "code",
   "execution_count": 9,
   "metadata": {},
   "outputs": [
    {
     "name": "stdout",
     "output_type": "stream",
     "text": [
      "Page number: 0\n",
      "Orientation in degrees: 0\n",
      "Rotate: 0\n",
      "Orientation confidence: 2.34\n",
      "Script: Latin\n",
      "Script confidence: 6.67\n",
      "\n"
     ]
    }
   ],
   "source": [
    "# Get information about orientation and script detection\n",
    "osd = pytesseract.image_to_osd(Image.open(test_png))\n",
    "print(osd)"
   ]
  },
  {
   "cell_type": "code",
   "execution_count": 10,
   "metadata": {},
   "outputs": [
    {
     "data": {
      "text/plain": [
       "['thermo1.ipynb',\n",
       " 'test.hocr.html',\n",
       " '.DS_Store',\n",
       " 'pdf2octreeBattery.ipynb',\n",
       " 'captions.ipynb',\n",
       " 'images',\n",
       " 'Untitled.ipynb',\n",
       " 'rahul',\n",
       " 'test.pdf',\n",
       " 'liion',\n",
       " '.ipynb_checkpoints',\n",
       " 'pdf2octreeSteffen.ipynb',\n",
       " 'pdf2octreeRahul.ipynb']"
      ]
     },
     "execution_count": 10,
     "metadata": {},
     "output_type": "execute_result"
    }
   ],
   "source": [
    "# Get a searchable PDF\n",
    "pdf = pytesseract.image_to_pdf_or_hocr(test_png, extension='pdf')\n",
    "hocr = pytesseract.image_to_pdf_or_hocr(test_png, extension='hocr')\n",
    "os.chdir(PHYSCHEM)\n",
    "with open('test.pdf', 'w+b') as f:\n",
    "    f.write(pdf) # pdf type is bytes by default\n",
    "with open('test.hocr.html', 'w+b') as f:\n",
    "    f.write(hocr) # hocr\n",
    "os.getcwd()\n",
    "os.listdir()"
   ]
  },
  {
   "cell_type": "code",
   "execution_count": 11,
   "metadata": {},
   "outputs": [
    {
     "name": "stdout",
     "output_type": "stream",
     "text": [
      "hocr  7522\n"
     ]
    }
   ],
   "source": [
    "# Get HOCR output\n",
    "hocr = pytesseract.image_to_pdf_or_hocr(test_png, extension='hocr')\n",
    "print(\"hocr \", len(hocr))"
   ]
  },
  {
   "cell_type": "code",
   "execution_count": 12,
   "metadata": {
    "scrolled": true
   },
   "outputs": [],
   "source": [
    "# Get ALTO XML output\n",
    "# xml = pytesseract.image_to_alto_xml(test_png)\n",
    "# print(xml)"
   ]
  },
  {
   "cell_type": "code",
   "execution_count": null,
   "metadata": {
    "scrolled": false
   },
   "outputs": [
    {
     "name": "stdout",
     "output_type": "stream",
     "text": [
      "liions  163\n",
      "liions pngs 310\n",
      "img  PMC7066648/pdfimages/image.3.1.162_462.51_165/raw.png\n",
      "words ['py' 'Tei' 'eran' 'Byte' 'a' '!']\n",
      "img  PMC7066648/pdfimages/image.4.2.162_462.384_691/raw.png\n",
      "words ['(' 'a' ')' 'normal' 'bending' '——' 'knotting' '10' '20' '30' '40' '50'\n",
      " '60' 'Specific' 'capacity' '(' 'mAh-g' \"''\" ')']\n",
      "img  PMC7066648/pdfimages/image.1.1.324_564.228_354/raw.png\n",
      "words ['cd' 'o' 'Voltage' '(' 'V' ')' 'n' 'a' 'Ra' ')' '20' '0.0' '0.1' '02'\n",
      " '03' '04' '05' 'Capacity' '(' 'mAh' ')']\n",
      "img  PMC7066648/pdfimages/image.2.2.324_564.117_361/raw.png\n",
      "words []\n",
      "img  PMC7066648/pdfimages/image.5.1.324_564.51_217/raw.png\n",
      "words []\n",
      "img  PMC7066648/pdfimages/image.2.1.60_300.460_614/raw.png\n",
      "words ['Packaging' 'Insulator']\n",
      "img  PMC7066648/pdfimages/image.1.2.538_563.-8_27/raw.png\n",
      "words ['ACS' 'AUTHORCHOICE']\n",
      "img  PMC7066648/pdfimages/image.4.1.112_512.51_333/raw.png\n",
      "words ['am' '~' '&' 'wa' '2' 'o' 'o' 'a' 'N' 'a' '=' 'Voltage' '(' 'V' ')' '2.0'\n",
      " '0.1' '0.2' '0.3' 'Capacity' '(' 'mAh' ')' 'discharge' 'Cycle' 'number'\n",
      " '0.4' '0.5' 'nN' 'no' '+' 'a' 'Q' 'n' 'oS' 'oS' 'ro' '°o' 'ro' ')' '°o'\n",
      " '3' 'Coulombic' 'effeciency' '(' '%' ')' '0' '50' '(' 'b' ')' '3' '.'\n",
      " '3.0' '2.5' '2.0' '1.5' 'Voltage' '(' 'V' ')' '1.0' '0.5' '0.0' '(' 'd'\n",
      " ')' '1400' '1200' '1000' '800' '600' '-Z' \"''\" '(' 'ohm' ')' '400' '200'\n",
      " '5' '10' '15' '20' 'Time' '(' 'h' ')' '—~—' '50' 'discharge' 'cycle' '——'\n",
      " 'Before' 'cycling' '100' '200' '300' '400' 'Z' \"'\" '(' 'ohm' ')' '25'\n",
      " '500' '30' '600' '0.3' '0.2' '0.1' '700' 'Current' '(' 'mA' ')']\n",
      "img  PMC7066648/pdfimages/image.3.2.345_544.196_625/raw.png\n",
      "words ['Current' '(' 'A' ')' '(' 'b' ')' '-Z' \"''\" '(' 'ohm' ')' '(' 'c' ')'\n",
      " '-Z' \"'\" \"''\" '(' 'ohm' ')' '18' '20' '22' '24' '26' '28' '30' '32' '34'\n",
      " '36' '38' 'Potential' '(' 'V' ')' '1200' '1000' '/' '800' '600' '400'\n",
      " '200' '999-0-0-0-9' ':' 'coca' 'Z' \"'\" '(' 'ohm' ')' '8000' '7000' '6000'\n",
      " '5000' '4000' '3000' '2000' '1000' '0' '3000' '6000' '9000' '12000'\n",
      " '15000' '18000' 'Z' \"'\" '(' 'ohm' ')']\n",
      "img  PMC7052225/pdfimages/image.3.1.156_480.64_295/raw.png\n"
     ]
    }
   ],
   "source": [
    "liion = os.path.join(PHYSCHEM, 'liion')\n",
    "os.chdir(liion)\n",
    "liions = glob.glob(\"**/sections/*/fig*.xml\")\n",
    "print(\"liions \", len(liions))\n",
    "\n",
    "liionpngs = glob.glob(\"**/pdfimages/**/raw.png\")\n",
    "print(\"liions pngs\", len(liionpngs)) \n",
    "\n",
    "import matplotlib.pyplot as plt\n",
    "# %matplotlib inline\n",
    "\n",
    "import time\n",
    "import html2text\n",
    "import numpy as np\n",
    "import nltk\n",
    "\n",
    "# print(liionpngs)\n",
    "maxcount = 10\n",
    "for count, liionpng in enumerate(liionpngs[:maxcount]):\n",
    "    print (\"img \", liionpng)\n",
    "    img = Image.open(liionpng)\n",
    "    plt.figure()\n",
    "#    plt.imshow(np.asarray(img))\n",
    "    plt.imshow(img)\n",
    "\n",
    "    hocr_file = os.path.join(os.path.split(liionpng)[0], 'hocr.html')\n",
    "    hocr = pytesseract.image_to_pdf_or_hocr(liionpng, extension='hocr')\n",
    "    with open(hocr_file, 'w+b') as f:\n",
    "        f.write(hocr) # hocr\n",
    "    html = open(hocr_file).read()\n",
    "    htmltext = html2text.html2text(html)\n",
    "    words = nltk.word_tokenize(htmltext)\n",
    "    print(\"words\", np.array(words))\n",
    "        \n",
    "        "
   ]
  },
  {
   "cell_type": "code",
   "execution_count": null,
   "metadata": {},
   "outputs": [],
   "source": []
  }
 ],
 "metadata": {
  "kernelspec": {
   "display_name": "Python 3",
   "language": "python",
   "name": "python3"
  },
  "language_info": {
   "codemirror_mode": {
    "name": "ipython",
    "version": 3
   },
   "file_extension": ".py",
   "mimetype": "text/x-python",
   "name": "python",
   "nbconvert_exporter": "python",
   "pygments_lexer": "ipython3",
   "version": "3.8.3"
  }
 },
 "nbformat": 4,
 "nbformat_minor": 4
}
