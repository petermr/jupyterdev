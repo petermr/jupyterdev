{
 "cells": [
  {
   "cell_type": "code",
   "execution_count": null,
   "metadata": {
    "button": false,
    "collapsed": true,
    "deletable": true,
    "new_sheet": false,
    "run_control": {
     "read_only": false
    }
   },
   "outputs": [],
   "source": [
    "\"\"\"\n",
    "https://scikit-image.org/docs/dev/user_guide/numpy_images.html\n",
    "https://scikit-image.org/docs/dev/user_guide/tutorial_segmentation.html\n",
    "https://claudiovz.github.io/scipy-lecture-notes-ES/advanced/image_processing/auto_examples/plot_canny.html\n",
    "https://scipy-lectures.org/advanced/image_processing/index.html#basic-image\n",
    "https://www.geeksforgeeks.org/python-pil-imageops-postarize-method/\n",
    "https://github.com/delimitry/octree_color_quantizer\n",
    "https://matplotlib.org/api/_as_gen/matplotlib.pyplot.figure.html\n",
    "https://chrisalbon.com/python/matplotlib_simple_scatterplot.html (list of posts) =>\n",
    "https://chrisalbon.com/python/data_visualization/matplotlib_simple_scatterplot\n",
    "https://python4astronomers.github.io/plotting/advanced.html\n",
    "https://python-docs.readthedocs.io/en/latest/writing/structure.html\n",
    "https://docs.python.org/3.9/library/\n",
    "https://scipy-lectures.org/advanced/image_processing/\n",
    "https://scipy-lectures.org/packages/scikit-image/\n",
    "https://scipy-lectures.org/packages/\n",
    "https://www.pluralsight.com/guides/importing-image-data-into-numpy-arrays\n",
    "\"\"\"\n",
    "\n",
    "\"\"\"\n",
    "maybe\n",
    "https://www.mdpi.com/2072-4292/12/11/1697/htm\n",
    "\"\"\"\n"
   ]
  }
 ],
 "metadata": {
  "kernelspec": {
   "display_name": "Python 3",
   "language": "python",
   "name": "python3"
  },
  "language_info": {
   "codemirror_mode": {
    "name": "ipython",
    "version": 3
   },
   "file_extension": ".py",
   "mimetype": "text/x-python",
   "name": "python",
   "nbconvert_exporter": "python",
   "pygments_lexer": "ipython3",
   "version": "3.8.3"
  }
 },
 "nbformat": 4,
 "nbformat_minor": 4
}
